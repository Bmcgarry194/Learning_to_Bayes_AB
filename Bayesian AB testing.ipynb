{
 "cells": [
  {
   "cell_type": "markdown",
   "metadata": {},
   "source": [
    "# Bayesian A/B Testing"
   ]
  },
  {
   "cell_type": "code",
   "execution_count": null,
   "metadata": {},
   "outputs": [],
   "source": [
    "from scipy.stats import beta\n",
    "import matplotlib.pyplot as plt\n",
    "import numpy as np\n",
    "import pandas as pd\n",
    "import seaborn as sns"
   ]
  },
  {
   "cell_type": "code",
   "execution_count": null,
   "metadata": {},
   "outputs": [],
   "source": [
    "true_rate_control = 0.65\n",
    "\n",
    "true_rate_experiment = 0.7\n",
    "\n",
    "people_visting_site = 500\n",
    "\n",
    "# Create a numpy array with a shape of 2 by number of people visiting the site\n",
    "# the first row represents the control outcomes and the second row is the experimental outcomes\n",
    "\n",
    "control, experiment = np.random.rand(2, people_visting_site)\n",
    "\n",
    "#if the random number is above than the true rate it is counted as a success, else failure \n",
    "control_successes = sum(control < true_rate_control)\n",
    "experiment_successes = sum(experiment < true_rate_experiment)\n",
    "\n",
    "control_failures = people_visting_site - control_successes\n",
    "experiment_failures = people_visting_site - experiment_successes"
   ]
  },
  {
   "cell_type": "code",
   "execution_count": null,
   "metadata": {},
   "outputs": [],
   "source": [
    "# Our Priors\n",
    "prior_successes = 20\n",
    "prior_failures = 5\n",
    "prior_distribution = beta(prior_successes, prior_failures)\n",
    "\n",
    "#graph of prior distribution\n",
    "fig, ax = plt.subplots()\n",
    "\n",
    "x_ = np.linspace(0, 1, 1000)\n",
    "ax.plot(x_, prior_distribution.pdf(x_))\n",
    "\n",
    "print(f'Successes: {prior_successes}')\n",
    "print(f'Failures: {prior_failures}')"
   ]
  },
  {
   "cell_type": "code",
   "execution_count": null,
   "metadata": {},
   "outputs": [],
   "source": [
    "# For our graph\n",
    "fig, ax = plt.subplots(1, 1, figsize=(10, 5)) \n",
    "\n",
    "# Control\n",
    "control_alpha = control_successes + prior_successes\n",
    "control_beta = control_failures + prior_failures\n",
    "\n",
    "# Experiment\n",
    "experiment_alpha = experiment_successes + prior_successes\n",
    "experiment_beta = experiment_failures + prior_failures\n",
    "\n",
    "\n",
    "# Generate beta distributions based on number of successes(alpha) and failures(beta)\n",
    "control_distribution = beta(control_alpha, control_beta)\n",
    "experiment_distribution = beta(experiment_alpha, experiment_beta)\n",
    "\n",
    "#plot distributions using \n",
    "\n",
    "x = np.linspace(0, 1, 1000)\n",
    "ax.plot(x, control_distribution.pdf(x))\n",
    "ax.plot(x, experiment_distribution.pdf(x))\n",
    "\n",
    "ax.set(xlabel='conversion rate', ylabel='density');\n",
    "\n",
    "print(f'control_successes: {control_successes}')\n",
    "print(f'control_failures: {control_failures}')\n",
    "print('--------------------------')\n",
    "print(f'experiment_successes: {experiment_successes}')\n",
    "print(f'experiment_failures: {experiment_failures}')"
   ]
  },
  {
   "cell_type": "markdown",
   "metadata": {},
   "source": [
    "## Bayesian Error Bars"
   ]
  },
  {
   "cell_type": "code",
   "execution_count": null,
   "metadata": {},
   "outputs": [],
   "source": [
    "sample_size = people_visting_site*2\n",
    "# c_samples = pd.Series([control_distribution.rvs() for _ in range(sample_size)])\n",
    "# e_samples = pd.Series([experiment_distribution.rvs() for _ in range(sample_size)])\n",
    "\n",
    "c_samples = control_distribution.rvs(10000)\n",
    "e_samples = experiment_distribution.rvs(10000)\n",
    "\n",
    "p_ish_value = 1.0 - sum(e_samples > c_samples)/10000\n",
    "p_ish_value"
   ]
  },
  {
   "cell_type": "code",
   "execution_count": null,
   "metadata": {},
   "outputs": [],
   "source": [
    "ps = []\n",
    "for _ in range(5000):\n",
    "    c_samples = control_distribution.rvs(1000)\n",
    "    e_samples = experiment_distribution.rvs(1000)\n",
    "\n",
    "    p_ish_value = 1.0 - sum(e_samples > c_samples)/1000\n",
    "    ps.append(p_ish_value)\n",
    "    \n",
    "fig, ax = plt.subplots()\n",
    "ax.hist(ps, bins=30);"
   ]
  },
  {
   "cell_type": "code",
   "execution_count": null,
   "metadata": {
    "collapsed": true,
    "jupyter": {
     "outputs_hidden": true
    }
   },
   "outputs": [],
   "source": [
    "additional_visitors = 10000\n",
    "\n",
    "# Control is Alpaca, Experiment is Bear\n",
    "control, experiment = np.random.rand(2, additional_visitors)\n",
    "\n",
    "# Add to existing data\n",
    "control_successes += sum(control < true_rate_control)\n",
    "experiment_successes += sum(experiment < true_rate_experiment)\n",
    "\n",
    "fig, ax = plt.subplots(1, 1, figsize=(10, 5)) \n",
    "\n",
    "control_failures += additional_visitors - sum(control < true_rate_control)\n",
    "experiment_failures += additional_visitors - sum(experiment < true_rate_experiment)\n",
    "\n",
    "x = np.linspace(0, 1, 1000)\n",
    "ax.plot(x, control_distribution.pdf(x))\n",
    "ax.plot(x, experiment_distribution.pdf(x))\n",
    "\n",
    "ax.set(xlabel='conversion rate', ylabel='density');\n",
    "\n",
    "print(f'control_successes: {control_successes}')\n",
    "print(f'control_failures: {control_failures}')\n",
    "print('--------------------------')\n",
    "print(f'experiment_successes: {experiment_successes}')\n",
    "print(f'experiment_failures: {experiment_failures}')"
   ]
  }
 ],
 "metadata": {
  "kernelspec": {
   "display_name": "Python 3",
   "language": "python",
   "name": "python3"
  },
  "language_info": {
   "codemirror_mode": {
    "name": "ipython",
    "version": 3
   },
   "file_extension": ".py",
   "mimetype": "text/x-python",
   "name": "python",
   "nbconvert_exporter": "python",
   "pygments_lexer": "ipython3",
   "version": "3.7.3"
  }
 },
 "nbformat": 4,
 "nbformat_minor": 4
}
